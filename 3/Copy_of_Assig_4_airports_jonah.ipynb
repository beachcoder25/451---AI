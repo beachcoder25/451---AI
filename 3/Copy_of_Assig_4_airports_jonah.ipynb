{
  "nbformat": 4,
  "nbformat_minor": 0,
  "metadata": {
    "kernelspec": {
      "display_name": "Python 3",
      "language": "python",
      "name": "python3"
    },
    "language_info": {
      "codemirror_mode": {
        "name": "ipython",
        "version": 3
      },
      "file_extension": ".py",
      "mimetype": "text/x-python",
      "name": "python",
      "nbconvert_exporter": "python",
      "pygments_lexer": "ipython3",
      "version": "3.7.3"
    },
    "colab": {
      "name": "Copy of Assig_4_airports_jonah.ipynb",
      "provenance": [],
      "collapsed_sections": []
    }
  },
  "cells": [
    {
      "cell_type": "code",
      "metadata": {
        "id": "9PtOlfnf0gxw",
        "colab_type": "code",
        "colab": {}
      },
      "source": [
        "import random\n",
        "import math\n",
        "\n",
        "num_city = 100\n",
        "num_air = 3\n",
        "cities = set()\n",
        "airports = []\n",
        "air1Cities=[]\n",
        "air2Cities=[]\n",
        "air3Cities=[]\n",
        "for i in range(num_city):\n",
        "    x = random.random()\n",
        "    y = random.random()\n",
        "    cities.add((x,y))\n",
        "    \n",
        "for i in range(num_air):\n",
        "    x = random.random()\n",
        "    y = random.random()\n",
        "    airports.append((x,y))"
      ],
      "execution_count": 0,
      "outputs": []
    },
    {
      "cell_type": "code",
      "metadata": {
        "id": "mGUsaWNw0gx1",
        "colab_type": "code",
        "outputId": "a0f5c39c-967d-4638-96f4-6fa04d55d445",
        "colab": {
          "base_uri": "https://localhost:8080/",
          "height": 283
        }
      },
      "source": [
        "import matplotlib.pyplot as plt\n",
        "\n",
        "zip_cities = zip(*cities)\n",
        "plt.scatter(*zip_cities, marker='+',color='b', label='Cities')\n",
        "zip_airs = zip(*airports)\n",
        "plt.scatter(*zip_airs, marker='*', color='r', s=100, label='Airports')\n",
        "plt.legend()\n",
        "plt\n",
        "print(airports)"
      ],
      "execution_count": 0,
      "outputs": [
        {
          "output_type": "stream",
          "text": [
            "[(0.9102204567214024, 0.5835762629364734), (0.23678020800201804, 0.44612831231367645), (0.9324502391414738, 0.17682197431595503)]\n"
          ],
          "name": "stdout"
        },
        {
          "output_type": "display_data",
          "data": {
            "image/png": "[encoded data removed]",
            "text/plain": [
              "<Figure size 432x288 with 1 Axes>"
            ]
          },
          "metadata": {
            "tags": []
          }
        }
      ]
    },
    {
      "cell_type": "code",
      "metadata": {
        "id": "CSEJg265jn1a",
        "colab_type": "code",
        "outputId": "f1aa3a53-03d9-45b9-d675-8b189b693c7c",
        "colab": {
          "base_uri": "https://localhost:8080/",
          "height": 108
        }
      },
      "source": [
        "\n",
        "import math\n",
        "import numpy as np\n",
        "#this list will hold values in form of ( int, (float,float))\n",
        "#fist value represents the airport that is closest to a given city\n",
        "#second value is tuple of city coordinates in form of  (x, y)\n",
        "airListPlusCities = []\n",
        "\n",
        "#this function calculates the linear distance of two coordinates\n",
        "def distanceOfTwoPoints(xa, ya, xc, yc):\n",
        "  return math.sqrt(((xa - xc)**2) + ((ya - yc)**2))\n",
        "  ''' iterate through each city in cities tuple and \n",
        "  calculate the distance from 3 airpors to each city, \n",
        "  find the closest airport and add (airport#, (xcity, ycity)) into list'''\n",
        "\n",
        "def setAirPortForCities ():\n",
        "  (x1, y1) = airports[0]\n",
        "  (x2, y2) = airports[1]\n",
        "  (x3, y3) = airports[2]\n",
        "  for city in cities:\n",
        "    (xc,yc) = city\n",
        "    distanceFromA1 = distanceOfTwoPoints(x1, y1, xc, yc)\n",
        "    distanceFromA2 = distanceOfTwoPoints(x2, y2, xc, yc)\n",
        "    distanceFromA3 = distanceOfTwoPoints(x3, y3, xc, yc)\n",
        "    \n",
        "    minD = np.argmin([distanceFromA1, distanceFromA2, distanceFromA3])\n",
        "    kac = (minD , city)\n",
        "    airListPlusCities.append(kac)\n",
        "   \n",
        "\n",
        "\n",
        "setAirPortForCities()\n",
        "list.sort(airListPlusCities)\n",
        "for i in range (3):\n",
        "  # for i in range (len(airListPlusCities)):\n",
        "  print(airListPlusCities[i])\n",
        "\n",
        "  \n",
        "print(airports)\n",
        "type(airports)\n",
        "# type(airListPlusCities[0])\n",
        "# print(airListPlusCities[0][1][0])"
      ],
      "execution_count": 0,
      "outputs": [
        {
          "output_type": "stream",
          "text": [
            "(0, (0.49485277088074053, 0.9915157614758202))\n",
            "(0, (0.5066218699732778, 0.8669130767878183))\n",
            "(0, (0.5368677437915162, 0.8440316465295512))\n",
            "[(0.9102204567214024, 0.5835762629364734), (0.23678020800201804, 0.44612831231367645), (0.9324502391414738, 0.17682197431595503)]\n"
          ],
          "name": "stdout"
        },
        {
          "output_type": "execute_result",
          "data": {
            "text/plain": [
              "list"
            ]
          },
          "metadata": {
            "tags": []
          },
          "execution_count": 30
        }
      ]
    },
    {
      "cell_type": "code",
      "metadata": {
        "id": "zIKAZmExQKVK",
        "colab_type": "code",
        "colab": {}
      },
      "source": [
        "x_sum_list = []\n",
        "y_sum_list = []\n",
        "x_sum = 0\n",
        "y_sum = 0\n",
        "\n",
        "for i in range (len(airListPlusCities)):\n",
        "\n",
        "  #print(airListPlusCities[i])\n",
        "  #print(airListPlusCities[i][0])\n",
        "  \n",
        "  \n",
        "  \n",
        "  if(airListPlusCities[i][0]) == 0:\n",
        "    x_sum += airListPlusCities[i][1][0]\n",
        "    y_sum += airListPlusCities[i][1][1]\n",
        "    print(x_sum, \" \",y_sum)\n",
        "\n",
        "print(\"\\n\")\n",
        "print(x_sum)\n",
        "print(y_sum)\n",
        "\n"
      ],
      "execution_count": 0,
      "outputs": []
    },
    {
      "cell_type": "code",
      "metadata": {
        "id": "qRWlg5sTIJH3",
        "colab_type": "code",
        "outputId": "18cb6c8b-a397-42d1-8756-3d21855a3cf0",
        "colab": {
          "base_uri": "https://localhost:8080/",
          "height": 371
        }
      },
      "source": [
        "\n",
        "\n",
        "\n",
        "def g_func(airports):\n",
        "\n",
        "  x1, y1 = airports[0]\n",
        "  x2, y2 = airports[1]\n",
        "  x3, y3 = airports[2]\n",
        "  x1_sum,y1_sum,x2_sum,y2_sum,x3_sum,y3_sum = 0,0,0,0,0,0\n",
        "\n",
        "  for i in range(len(airListPlusCities)):\n",
        "    xc,yc = airListPlusCities[i][1][0], airListPlusCities[i][1][1]\n",
        "    \n",
        "    if(airListPlusCities[i][0]) == 0:\n",
        "      x1_sum += (2 * (x1 - xc))\n",
        "      y1_sum += (2 * (y1 - yc))\n",
        "\n",
        "    if(airListPlusCities[i][0]) == 1:\n",
        "       x2_sum += (2 * (x2 - xc))\n",
        "       y2_sum += (2 * (y2 - yc))\n",
        "\n",
        "    if(airListPlusCities[i][0]) == 1:\n",
        "      x3_sum += (2 * (x3 - xc))\n",
        "      y3_sum += (2 * (y3 - yc))\n",
        "\n",
        "\n",
        "\n",
        "    #     if(airListPlusCities[i][0]) == 0:\n",
        "    airports[0][0] = x1_sum\n",
        "    airports[0][1] = y1_sum\n",
        "\n",
        "    # if(airListPlusCities[i][0]) == 1:\n",
        "    airports[1][0] = x2_sum\n",
        "    airports[1][1] = y2_sum\n",
        "\n",
        "    # if(airListPlusCities[i][0]) == 1:\n",
        "    airports[2][0] = x3_sum\n",
        "    airports[2][1] = y3_sum\n",
        "      \n",
        "  return airports\n",
        "\n",
        " \n",
        "print(g_func(airports))\n",
        "\n",
        "\n",
        "\n",
        "\n",
        "\n"
      ],
      "execution_count": 0,
      "outputs": [
        {
          "output_type": "error",
          "ename": "TypeError",
          "evalue": "ignored",
          "traceback": [
            "\u001b[0;31m---------------------------------------------------------------------------\u001b[0m",
            "\u001b[0;31mTypeError\u001b[0m                                 Traceback (most recent call last)",
            "\u001b[0;32m<ipython-input-28-fe054044e525>\u001b[0m in \u001b[0;36m<module>\u001b[0;34m()\u001b[0m\n\u001b[1;32m     40\u001b[0m \u001b[0;34m\u001b[0m\u001b[0m\n\u001b[1;32m     41\u001b[0m \u001b[0;34m\u001b[0m\u001b[0m\n\u001b[0;32m---> 42\u001b[0;31m \u001b[0mprint\u001b[0m\u001b[0;34m(\u001b[0m\u001b[0mg_func\u001b[0m\u001b[0;34m(\u001b[0m\u001b[0mairports\u001b[0m\u001b[0;34m)\u001b[0m\u001b[0;34m)\u001b[0m\u001b[0;34m\u001b[0m\u001b[0;34m\u001b[0m\u001b[0m\n\u001b[0m\u001b[1;32m     43\u001b[0m \u001b[0;34m\u001b[0m\u001b[0m\n\u001b[1;32m     44\u001b[0m \u001b[0;34m\u001b[0m\u001b[0m\n",
            "\u001b[0;32m<ipython-input-28-fe054044e525>\u001b[0m in \u001b[0;36mg_func\u001b[0;34m(airports)\u001b[0m\n\u001b[1;32m     26\u001b[0m \u001b[0;34m\u001b[0m\u001b[0m\n\u001b[1;32m     27\u001b[0m     \u001b[0;31m#     if(airListPlusCities[i][0]) == 0:\u001b[0m\u001b[0;34m\u001b[0m\u001b[0;34m\u001b[0m\u001b[0;34m\u001b[0m\u001b[0m\n\u001b[0;32m---> 28\u001b[0;31m     \u001b[0mairports\u001b[0m\u001b[0;34m[\u001b[0m\u001b[0;36m0\u001b[0m\u001b[0;34m]\u001b[0m\u001b[0;34m[\u001b[0m\u001b[0;36m0\u001b[0m\u001b[0;34m]\u001b[0m \u001b[0;34m=\u001b[0m \u001b[0mx1_sum\u001b[0m\u001b[0;34m\u001b[0m\u001b[0;34m\u001b[0m\u001b[0m\n\u001b[0m\u001b[1;32m     29\u001b[0m     \u001b[0mairports\u001b[0m\u001b[0;34m[\u001b[0m\u001b[0;36m0\u001b[0m\u001b[0;34m]\u001b[0m\u001b[0;34m[\u001b[0m\u001b[0;36m1\u001b[0m\u001b[0;34m]\u001b[0m \u001b[0;34m=\u001b[0m \u001b[0my1_sum\u001b[0m\u001b[0;34m\u001b[0m\u001b[0;34m\u001b[0m\u001b[0m\n\u001b[1;32m     30\u001b[0m \u001b[0;34m\u001b[0m\u001b[0m\n",
            "\u001b[0;31mTypeError\u001b[0m: 'tuple' object does not support item assignment"
          ]
        }
      ]
    },
    {
      "cell_type": "markdown",
      "metadata": {
        "colab_type": "text",
        "id": "rfQrtufGIEQ8"
      },
      "source": [
        "The objective function is given by $f(x_1,y_1,x_2,y_2,x_3,y_3)=\\sum_{i=1}^n\\sum_{c\\in C_i}(x_i-x_c)^2+(y_i-y_c)^2$ where $n$ is the number of the airports and $C_i$ is the set of cities whose closest airport is airport $i$. The goal of the program is determining the locations of airports that minimize the objective function using gradient based optimizatoin. \n",
        "\n",
        "The gradient of the objective function is $\\nabla f(x_1,y_1,x_2,y_2,x_3,y_3)=\\big(2\\sum_{c\\in C_1}(x_1-x_c),2\\sum_{c\\in C_1}(y_1-y_c),2\\sum_{c\\in C_2}(x_2-x_c),2\\sum_{c\\in C_2}(y_2-y_c),2\\sum_{c\\in C_3}(x_3-x_c),2\\sum_{c\\in C_3}(y_3-y_c)\\big)$\n",
        "\n",
        "By updating $(x_1,y_1,x_2,y_2,x_3,y_3)\\gets (x_1,y_1,x_2,y_2,x_3,y_3)-\\alpha \\nabla f(x_1,y_1,x_2,y_2,x_3,y_3)$ where $0<\\alpha\\ll1$ is a constant, **find the optimal locations of the airports $(x_1,y_1,x_2,y_2,x_3,y_3)$.**\n",
        "\n",
        "Every time the locations of the airports are updated, **plot the objective value as shown in the figure**.\n",
        "\n",
        "<Note: The objective values may be different than the example.>\n",
        "<img src=\"airports_loss.png\" style=\"width:400px\">"
      ]
    }
  ]
}