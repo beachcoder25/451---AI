{
  "nbformat": 4,
  "nbformat_minor": 0,
  "metadata": {
    "kernelspec": {
      "display_name": "Python 3",
      "language": "python",
      "name": "python3"
    },
    "language_info": {
      "codemirror_mode": {
        "name": "ipython",
        "version": 3
      },
      "file_extension": ".py",
      "mimetype": "text/x-python",
      "name": "python",
      "nbconvert_exporter": "python",
      "pygments_lexer": "ipython3",
      "version": "3.7.3"
    },
    "colab": {
      "name": "Assig_4_airports-arash.ipynb",
      "provenance": [],
      "collapsed_sections": [],
      "include_colab_link": true
    }
  },
  "cells": [
    {
      "cell_type": "markdown",
      "metadata": {
        "id": "view-in-github",
        "colab_type": "text"
      },
      "source": [
        "<a href=\"https://colab.research.google.com/github/beachcoder25/451---AI/blob/objective_function_jonah/Assig_4_airports_arash.ipynb\" target=\"_parent\"><img src=\"https://colab.research.google.com/assets/colab-badge.svg\" alt=\"Open In Colab\"/></a>"
      ]
    },
    {
      "cell_type": "code",
      "metadata": {
        "id": "9PtOlfnf0gxw",
        "colab_type": "code",
        "colab": {}
      },
      "source": [
        "import random\n",
        "import math\n",
        "\n",
        "num_city = 100\n",
        "num_air = 3\n",
        "cities = set()\n",
        "airports = []\n",
        "air1Cities=[]\n",
        "air2Cities=[]\n",
        "air3Cities=[]\n",
        "for i in range(num_city):\n",
        "    x = random.random()\n",
        "    y = random.random()\n",
        "    cities.add((x,y))\n",
        "    \n",
        "for i in range(num_air):\n",
        "    x = random.random()\n",
        "    y = random.random()\n",
        "    airports.append((x,y))"
      ],
      "execution_count": 0,
      "outputs": []
    },
    {
      "cell_type": "code",
      "metadata": {
        "id": "mGUsaWNw0gx1",
        "colab_type": "code",
        "outputId": "76a0d95f-f288-42fd-b8bd-ed5f2b0a16bc",
        "colab": {
          "base_uri": "https://localhost:8080/",
          "height": 282
        }
      },
      "source": [
        "import matplotlib.pyplot as plt\n",
        "\n",
        "zip_cities = zip(*cities)\n",
        "plt.scatter(*zip_cities, marker='+',color='b', label='Cities')\n",
        "zip_airs = zip(*airports)\n",
        "plt.scatter(*zip_airs, marker='*', color='r', s=100, label='Airports')\n",
        "plt.legend()\n",
        "plt\n",
        "print(airports)"
      ],
      "execution_count": 0,
      "outputs": [
        {
          "output_type": "stream",
          "text": [
            "[(0.4648046216594206, 0.8363439503949525), (0.5573963990251912, 0.22456152088961023), (0.8934557689304824, 0.643540070069635)]\n"
          ],
          "name": "stdout"
        },
        {
          "output_type": "display_data",
          "data": {
            "image/png": "[encoded data removed]",
            "text/plain": [
              "<Figure size 432x288 with 1 Axes>"
            ]
          },
          "metadata": {
            "tags": []
          }
        }
      ]
    },
    {
      "cell_type": "code",
      "metadata": {
        "id": "CSEJg265jn1a",
        "colab_type": "code",
        "outputId": "5c51ef04-8915-454b-ecf1-2674d2f98448",
        "colab": {
          "base_uri": "https://localhost:8080/",
          "height": 35
        }
      },
      "source": [
        "\n",
        "import math\n",
        "import numpy as np\n",
        "#this list will hold values in form of ( int, (float,float))\n",
        "#fist value represents the airport that is closest to a given city\n",
        "#second value is tuple of city coordinates in form of  (x, y)\n",
        "airListPlusCities = []\n",
        "\n",
        "#this function calculates the linear distance of two coordinates\n",
        "def distanceOfTwoPoints(xa, ya, xc, yc):\n",
        "  return math.sqrt(((xa - xc)**2) + ((ya - yc)**2))\n",
        "  ''' iterate through each city in cities tuple and \n",
        "  calculate the distance from 3 airpors to each city, \n",
        "  find the closest airport and add (airport#, (xcity, ycity)) into list'''\n",
        "\n",
        "def setAirPortForCities ():\n",
        "  (x1, y1) = airports[0]\n",
        "  (x2, y2) = airports[1]\n",
        "  (x3, y3) = airports[2]\n",
        "  for city in cities:\n",
        "    (xc,yc) = city\n",
        "    distanceFromA1 = distanceOfTwoPoints(x1, y1, xc, yc)\n",
        "    distanceFromA2 = distanceOfTwoPoints(x2, y2, xc, yc)\n",
        "    distanceFromA3 = distanceOfTwoPoints(x3, y3, xc, yc)\n",
        "    \n",
        "    minD = np.argmin([distanceFromA1, distanceFromA2, distanceFromA3])\n",
        "    kac = (minD , city)\n",
        "    airListPlusCities.append(kac)\n",
        "   \n",
        "\n",
        "\n",
        "setAirPortForCities()\n",
        "list.sort(airListPlusCities)\n",
        "#for i in range (len(airListPlusCities)):\n",
        "  #print(airListPlusCities[i])\n",
        "  \n",
        "type(airListPlusCities[0])\n",
        "    "
      ],
      "execution_count": 10,
      "outputs": [
        {
          "output_type": "execute_result",
          "data": {
            "text/plain": [
              "tuple"
            ]
          },
          "metadata": {
            "tags": []
          },
          "execution_count": 10
        }
      ]
    },
    {
      "cell_type": "code",
      "metadata": {
        "id": "zIKAZmExQKVK",
        "colab_type": "code",
        "colab": {}
      },
      "source": [
        ""
      ],
      "execution_count": 0,
      "outputs": []
    },
    {
      "cell_type": "markdown",
      "metadata": {
        "id": "YnB_xRTk0gx6",
        "colab_type": "text"
      },
      "source": [
        "The objective function is given by $f(x_1,y_1,x_2,y_2,x_3,y_3)=\\sum_{i=1}^n\\sum_{c\\in C_i}(x_i-x_c)^2+(y_i-y_c)^2$ where $n$ is the number of the airports and $C_i$ is the set of cities whose closest airport is airport $i$. The goal of the program is determining the locations of airports that minimize the objective function using gradient based optimizatoin. \n",
        "\n",
        "The gradient of the objective function is $\\nabla f(x_1,y_1,x_2,y_2,x_3,y_3)=\\big(2\\sum_{c\\in C_1}(x_1-x_c),2\\sum_{c\\in C_1}(y_1-y_c),2\\sum_{c\\in C_2}(x_2-x_c),2\\sum_{c\\in C_2}(y_2-y_c),2\\sum_{c\\in C_3}(x_3-x_c),2\\sum_{c\\in C_3}(y_3-y_c)\\big)$\n",
        "\n",
        "By updating $(x_1,y_1,x_2,y_2,x_3,y_3)\\gets (x_1,y_1,x_2,y_2,x_3,y_3)-\\alpha \\nabla f(x_1,y_1,x_2,y_2,x_3,y_3)$ where $0<\\alpha\\ll1$ is a constant, **find the optimal locations of the airports $(x_1,y_1,x_2,y_2,x_3,y_3)$.**\n",
        "\n",
        "Every time the locations of the airports are updated, **plot the objective value as shown in the figure**.\n",
        "\n",
        "<Note: The objective values may be different than the example.>\n",
        "<img src=\"airports_loss.png\" style=\"width:400px\">"
      ]
    }
  ]
}