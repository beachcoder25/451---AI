{
  "nbformat": 4,
  "nbformat_minor": 0,
  "metadata": {
    "kernelspec": {
      "display_name": "Python 3",
      "language": "python",
      "name": "python3"
    },
    "language_info": {
      "codemirror_mode": {
        "name": "ipython",
        "version": 3
      },
      "file_extension": ".py",
      "mimetype": "text/x-python",
      "name": "python",
      "nbconvert_exporter": "python",
      "pygments_lexer": "ipython3",
      "version": "3.7.3"
    },
    "colab": {
      "name": "Copy of Assig_4_airports_jonah.ipynb",
      "provenance": [],
      "collapsed_sections": []
    }
  },
  "cells": [
    {
      "cell_type": "code",
      "metadata": {
        "id": "9PtOlfnf0gxw",
        "colab_type": "code",
        "colab": {}
      },
      "source": [
        "import random\n",
        "import math\n",
        "\n",
        "num_city = 100\n",
        "num_air = 3\n",
        "cities = set()\n",
        "airports = []\n",
        "air1Cities=[]\n",
        "air2Cities=[]\n",
        "air3Cities=[]\n",
        "for i in range(num_city):\n",
        "    x = random.random()\n",
        "    y = random.random()\n",
        "    cities.add((x,y))\n",
        "    \n",
        "for i in range(num_air):\n",
        "    x = random.random()\n",
        "    y = random.random()\n",
        "    airports.append((x,y))"
      ],
      "execution_count": 0,
      "outputs": []
    },
    {
      "cell_type": "code",
      "metadata": {
        "id": "mGUsaWNw0gx1",
        "colab_type": "code",
        "outputId": "d8a1700f-3b88-4d6d-b553-269bc3120043",
        "colab": {
          "base_uri": "https://localhost:8080/",
          "height": 283
        }
      },
      "source": [
        "import matplotlib.pyplot as plt\n",
        "\n",
        "zip_cities = zip(*cities)\n",
        "plt.scatter(*zip_cities, marker='+',color='b', label='Cities')\n",
        "zip_airs = zip(*airports)\n",
        "plt.scatter(*zip_airs, marker='*', color='r', s=100, label='Airports')\n",
        "plt.legend()\n",
        "plt\n",
        "print(airports)"
      ],
      "execution_count": 3,
      "outputs": [
        {
          "output_type": "stream",
          "text": [
            "[(0.34046491233625, 0.5388034328519384), (0.1536033396255868, 0.6566165913248563), (0.43207694172438227, 0.8010204121030013)]\n"
          ],
          "name": "stdout"
        },
        {
          "output_type": "display_data",
          "data": {
            "image/png": "[encoded data removed]",
            "text/plain": [
              "<Figure size 432x288 with 1 Axes>"
            ]
          },
          "metadata": {
            "tags": []
          }
        }
      ]
    },
    {
      "cell_type": "code",
      "metadata": {
        "id": "CSEJg265jn1a",
        "colab_type": "code",
        "outputId": "09d5d27b-d83d-4a31-f787-829b2871d3c6",
        "colab": {
          "base_uri": "https://localhost:8080/",
          "height": 108
        }
      },
      "source": [
        "\n",
        "import math\n",
        "import numpy as np\n",
        "#this list will hold values in form of ( int, (float,float))\n",
        "#fist value represents the airport that is closest to a given city\n",
        "#second value is tuple of city coordinates in form of  (x, y)\n",
        "airListPlusCities = []\n",
        "\n",
        "#this function calculates the linear distance of two coordinates\n",
        "def distanceOfTwoPoints(xa, ya, xc, yc):\n",
        "  return math.sqrt(((xa - xc)**2) + ((ya - yc)**2))\n",
        "  ''' iterate through each city in cities tuple and \n",
        "  calculate the distance from 3 airpors to each city, \n",
        "  find the closest airport and add (airport#, (xcity, ycity)) into list'''\n",
        "\n",
        "def setAirPortForCities ():\n",
        "  (x1, y1) = airports[0]\n",
        "  (x2, y2) = airports[1]\n",
        "  (x3, y3) = airports[2]\n",
        "  for city in cities:\n",
        "    (xc,yc) = city\n",
        "    distanceFromA1 = distanceOfTwoPoints(x1, y1, xc, yc)\n",
        "    distanceFromA2 = distanceOfTwoPoints(x2, y2, xc, yc)\n",
        "    distanceFromA3 = distanceOfTwoPoints(x3, y3, xc, yc)\n",
        "    \n",
        "    minD = np.argmin([distanceFromA1, distanceFromA2, distanceFromA3])\n",
        "    kac = (minD , city)\n",
        "    airListPlusCities.append(kac)\n",
        "   \n",
        "\n",
        "\n",
        "setAirPortForCities()\n",
        "list.sort(airListPlusCities)\n",
        "for i in range (3):\n",
        "  # for i in range (len(airListPlusCities)):\n",
        "  print(airListPlusCities[i])\n",
        "\n",
        "  \n",
        "print(airports)\n",
        "type(airports)\n",
        "# type(airListPlusCities[0])\n",
        "# print(airListPlusCities[0][1][0])"
      ],
      "execution_count": 7,
      "outputs": [
        {
          "output_type": "stream",
          "text": [
            "(0, (0.01993467943478866, 0.03763675705869285))\n",
            "(0, (0.03857903441692856, 0.1169485119424698))\n",
            "(0, (0.07090469781012443, 0.2235328541844923))\n",
            "[(0.34046491233625, 0.5388034328519384), (0.1536033396255868, 0.6566165913248563), (0.43207694172438227, 0.8010204121030013)]\n"
          ],
          "name": "stdout"
        },
        {
          "output_type": "execute_result",
          "data": {
            "text/plain": [
              "list"
            ]
          },
          "metadata": {
            "tags": []
          },
          "execution_count": 7
        }
      ]
    },
    {
      "cell_type": "code",
      "metadata": {
        "id": "zIKAZmExQKVK",
        "colab_type": "code",
        "colab": {}
      },
      "source": [
        "x_sum_list = []\n",
        "y_sum_list = []\n",
        "x_sum = 0\n",
        "y_sum = 0\n",
        "\n",
        "for i in range (len(airListPlusCities)):\n",
        "\n",
        "  #print(airListPlusCities[i])\n",
        "  #print(airListPlusCities[i][0])\n",
        "  \n",
        "  \n",
        "  \n",
        "  if(airListPlusCities[i][0]) == 0:\n",
        "    x_sum += airListPlusCities[i][1][0]\n",
        "    y_sum += airListPlusCities[i][1][1]\n",
        "    print(x_sum, \" \",y_sum)\n",
        "\n",
        "print(\"\\n\")\n",
        "print(x_sum)\n",
        "print(y_sum)\n",
        "\n"
      ],
      "execution_count": 0,
      "outputs": []
    },
    {
      "cell_type": "code",
      "metadata": {
        "id": "qRWlg5sTIJH3",
        "colab_type": "code",
        "outputId": "c8bddcbb-5e08-4878-82ed-7926594f0cac",
        "colab": {
          "base_uri": "https://localhost:8080/",
          "height": 54
        }
      },
      "source": [
        "# Unsure of how to determine the alpha value\n",
        "\n",
        "\n",
        "def g_func(airports):\n",
        "\n",
        "  print(airports)\n",
        "  x1, y1 = airports[0]\n",
        "  x2, y2 = airports[1]\n",
        "  x3, y3 = airports[2]\n",
        "  x1_sum,y1_sum,x2_sum,y2_sum,x3_sum,y3_sum = 0,0,0,0,0,0\n",
        "\n",
        "  for i in range(len(airListPlusCities)):\n",
        "    xc,yc = airListPlusCities[i][1][0], airListPlusCities[i][1][1]\n",
        "    \n",
        "    if(airListPlusCities[i][0]) == 0:\n",
        "      x1_sum += (2 * abs((x1 - xc)))\n",
        "      y1_sum += (2 * abs((y1 - yc)))\n",
        "      #print(x1_sum)\n",
        "\n",
        "    if(airListPlusCities[i][0]) == 1:\n",
        "       x2_sum += (2 * abs((x2 - xc)))\n",
        "       y2_sum += (2 * abs((y2 - yc)))\n",
        "\n",
        "    if(airListPlusCities[i][0]) == 1:\n",
        "      x3_sum += (2 * abs((x3 - xc)))\n",
        "      y3_sum += (2 * abs((y3 - yc)))\n",
        "\n",
        "\n",
        "    ret_airports = ((x1_sum,y1_sum),(x2_sum,y2_sum), (x3_sum,y3_sum))\n",
        "      \n",
        "  return ret_airports\n",
        "\n",
        " \n",
        "print(g_func(airports))\n",
        "\n",
        "\n",
        "\n",
        "\n",
        "\n"
      ],
      "execution_count": 13,
      "outputs": [
        {
          "output_type": "stream",
          "text": [
            "[(0.34046491233625, 0.5388034328519384), (0.1536033396255868, 0.6566165913248563), (0.43207694172438227, 0.8010204121030013)]\n",
            "((29.69879355842419, 37.262312090210244), (1.8717483082238453, 3.8651438717505773), (9.216148679440652, 5.0589614806792325))\n"
          ],
          "name": "stdout"
        }
      ]
    },
    {
      "cell_type": "markdown",
      "metadata": {
        "colab_type": "text",
        "id": "rfQrtufGIEQ8"
      },
      "source": [
        "The objective function is given by $f(x_1,y_1,x_2,y_2,x_3,y_3)=\\sum_{i=1}^n\\sum_{c\\in C_i}(x_i-x_c)^2+(y_i-y_c)^2$ where $n$ is the number of the airports and $C_i$ is the set of cities whose closest airport is airport $i$. The goal of the program is determining the locations of airports that minimize the objective function using gradient based optimizatoin. \n",
        "\n",
        "The gradient of the objective function is $\\nabla f(x_1,y_1,x_2,y_2,x_3,y_3)=\\big(2\\sum_{c\\in C_1}(x_1-x_c),2\\sum_{c\\in C_1}(y_1-y_c),2\\sum_{c\\in C_2}(x_2-x_c),2\\sum_{c\\in C_2}(y_2-y_c),2\\sum_{c\\in C_3}(x_3-x_c),2\\sum_{c\\in C_3}(y_3-y_c)\\big)$\n",
        "\n",
        "By updating $(x_1,y_1,x_2,y_2,x_3,y_3)\\gets (x_1,y_1,x_2,y_2,x_3,y_3)-\\alpha \\nabla f(x_1,y_1,x_2,y_2,x_3,y_3)$ where $0<\\alpha\\ll1$ is a constant, **find the optimal locations of the airports $(x_1,y_1,x_2,y_2,x_3,y_3)$.**\n",
        "\n",
        "Every time the locations of the airports are updated, **plot the objective value as shown in the figure**.\n",
        "\n",
        "<Note: The objective values may be different than the example.>\n",
        "<img src=\"airports_loss.png\" style=\"width:400px\">"
      ]
    }
  ]
}