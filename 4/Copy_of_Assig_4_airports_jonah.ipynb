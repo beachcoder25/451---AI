{
  "nbformat": 4,
  "nbformat_minor": 0,
  "metadata": {
    "kernelspec": {
      "display_name": "Python 3",
      "language": "python",
      "name": "python3"
    },
    "language_info": {
      "codemirror_mode": {
        "name": "ipython",
        "version": 3
      },
      "file_extension": ".py",
      "mimetype": "text/x-python",
      "name": "python",
      "nbconvert_exporter": "python",
      "pygments_lexer": "ipython3",
      "version": "3.7.3"
    },
    "colab": {
      "name": "Copy of Assig_4_airports_jonah.ipynb",
      "provenance": [],
      "collapsed_sections": []
    }
  },
  "cells": [
    {
      "cell_type": "code",
      "metadata": {
        "id": "9PtOlfnf0gxw",
        "colab_type": "code",
        "outputId": "de49336e-d902-4a3c-8eab-eccfb1ef7d5e",
        "colab": {
          "base_uri": "https://localhost:8080/",
          "height": 959
        }
      },
      "source": [
        "import random\n",
        "import math\n",
        "import numpy as np\n",
        "import matplotlib.pyplot as plt\n",
        "#\n",
        "#\n",
        "#\n",
        "#GLOBAL VARIABLES\n",
        "num_city = 100\n",
        "num_air = 3\n",
        "cities = set()\n",
        "airports = []\n",
        "obj_values = []\n",
        "#INITIALIZE CITIES\n",
        "for i in range(num_city):\n",
        "    x = random.random()\n",
        "    y = random.random()\n",
        "    cities.add((x,y))\n",
        "#INITIALIZE AIRPORTS\n",
        "for i in range(num_air):\n",
        "    x = random.random()\n",
        "    y = random.random()\n",
        "    airports.append((x,y))\n",
        "#\n",
        "#\n",
        "#\n",
        "def g_func(airports):\n",
        "    \n",
        "    x1_sum,y1_sum,x2_sum,y2_sum,x3_sum,y3_sum = 0,0,0,0,0,0\n",
        "    (x1, y1) = airports[0]\n",
        "    (x2, y2) = airports[1]\n",
        "    (x3, y3) = airports[2]    \n",
        "\n",
        "    for i in range(len(airListPlusCities)):\n",
        "        xc,yc = airListPlusCities[i][1][0], airListPlusCities[i][1][1]\n",
        "\n",
        "        if(airListPlusCities[i][0]) == 0:\n",
        "            x1_sum += ((x1 - xc))\n",
        "            y1_sum += ((y1 - yc))\n",
        "\n",
        "        if(airListPlusCities[i][0]) == 1:\n",
        "            x2_sum += ((x2 - xc))\n",
        "            y2_sum += ((y2 - yc))\n",
        "\n",
        "        if(airListPlusCities[i][0]) == 2:\n",
        "            x3_sum += ((x3 - xc))\n",
        "            y3_sum += ((y3 - yc))\n",
        "\n",
        "        gradient = ((2 * x1_sum,2 * y1_sum),(2 * x2_sum,2 * y2_sum), (2 * x3_sum,2 * y3_sum))\n",
        "\n",
        "    return gradient\n",
        "#\n",
        "#\n",
        "#\n",
        "def obj_func() :\n",
        "    #\n",
        "    sum1 = 0\n",
        "    sum2 = 0\n",
        "    sum3 = 0\n",
        "    (x1, y1) = airports[0]\n",
        "    (x2, y2) = airports[1]\n",
        "    (x3, y3) = airports[2]     \n",
        "\n",
        "    for i in range(len(airListPlusCities)):\n",
        "        xc, yc = airListPlusCities[i][1][0], airListPlusCities[i][1][1]\n",
        "\n",
        "        if(airListPlusCities[i][0]) == 0:\n",
        "            sum1 += (x1 - xc)**2 + (y1 - yc)**2\n",
        "            \n",
        "        elif(airListPlusCities[i][0]) == 1:\n",
        "            sum2 += (x2 - xc)**2 + (y2 - yc)**2\n",
        "            \n",
        "        elif(airListPlusCities[i][0]) == 2:\n",
        "            sum3 += (x3 - xc)**2 + (y3 - yc)**2\n",
        "    \n",
        "    return (sum1 + sum2 + sum3)       \n",
        "#            \n",
        "#\n",
        "#\n",
        "def distanceOfTwoPoints(xa, ya, xc, yc):\n",
        "    '''\n",
        "    calculates linear distance between two coordinates\n",
        "    '''\n",
        "    return math.sqrt( ((xa - xc)**2) + ((ya - yc)**2) )\n",
        "#\n",
        "#\n",
        "#\n",
        "def setAirPortForCities():\n",
        "    ''' \n",
        "    iterate through each city in cities tuple and calculate the distance \n",
        "    from 3 airpors to each city, find the closest airport and add \n",
        "    (airport#, (xcity, ycity)) into list\n",
        "    '''   \n",
        "    (x1, y1) = airports[0]\n",
        "    (x2, y2) = airports[1]\n",
        "    (x3, y3) = airports[2]\n",
        "    \n",
        "    for city in cities:\n",
        "        (xc,yc) = city\n",
        "        distanceFromA1 = distanceOfTwoPoints(x1, y1, xc, yc)\n",
        "        distanceFromA2 = distanceOfTwoPoints(x2, y2, xc, yc)\n",
        "        distanceFromA3 = distanceOfTwoPoints(x3, y3, xc, yc)\n",
        "\n",
        "        minD = np.argmin([distanceFromA1, distanceFromA2, distanceFromA3])\n",
        "        kac = (minD , city)\n",
        "        airListPlusCities.append(kac)\n",
        "#            \n",
        "#    \n",
        "#   \n",
        "def display_plot():\n",
        "    zip_cities = zip(*cities)\n",
        "    plt.scatter(*zip_cities, marker='+',color='b', label='Cities')\n",
        "    zip_airs = zip(*airports)\n",
        "    plt.scatter(*zip_airs, marker='*', color='r', s=100, label='Airports')\n",
        "    plt.legend()\n",
        "    plt.show()\n",
        "\n",
        "\n",
        "\n",
        "################################################\n",
        "# Main\n",
        "################################################\n",
        "\n",
        "if __name__ == \"__main__\":\n",
        "\n",
        "  plt.title('Initial orientation')\n",
        "  display_plot()\n",
        "  #\n",
        "  #\n",
        "  #\n",
        "  epochs = 20\n",
        "  alpha = .001\n",
        "  #\n",
        "  for i in range(epochs) :\n",
        "      #BUCKET CITIES\n",
        "      airListPlusCities = []\n",
        "      setAirPortForCities()\n",
        "      list.sort(airListPlusCities)\n",
        "      \n",
        "      #MOVE AIRPORTS\n",
        "      grad = g_func(airports)\n",
        "      for i in range(3):\n",
        "          x = airports[i][0] - (alpha * grad[i][0])\n",
        "          y = airports[i][1] - (alpha * grad[i][1])\n",
        "      \n",
        "          airports[i] = (x,y)\n",
        "          \n",
        "      #COMPUTE OBJECTIVE FUNCTION\n",
        "      objective = obj_func()\n",
        "      obj_values.append(objective)\n",
        "\n",
        "  print(\"\\n\\n\")\n",
        "  plt.title('Final orientation')\n",
        "  display_plot()\n",
        "\n",
        "  print(\"\\n\\n\")\n",
        "  plt.title('Objective function plot')\n",
        "  plt.scatter(np.arange(1, epochs+1), obj_values)\n",
        "  plt.ylabel('Objective Function Value')\n",
        "  plt.xlabel('Number of Epochs')\n",
        "  plt.show()\n",
        "\n",
        "  print(\"\\nDONE!\")\n"
      ],
      "execution_count": 10,
      "outputs": [
        {
          "output_type": "display_data",
          "data": {
            "image/png": "[encoded data removed]",
            "text/plain": [
              "<Figure size 432x288 with 1 Axes>"
            ]
          },
          "metadata": {
            "tags": []
          }
        },
        {
          "output_type": "stream",
          "text": [
            "\n",
            "\n",
            "\n"
          ],
          "name": "stdout"
        },
        {
          "output_type": "display_data",
          "data": {
            "image/png": "[encoded data removed]",
            "text/plain": [
              "<Figure size 432x288 with 1 Axes>"
            ]
          },
          "metadata": {
            "tags": []
          }
        },
        {
          "output_type": "stream",
          "text": [
            "\n",
            "\n",
            "\n"
          ],
          "name": "stdout"
        },
        {
          "output_type": "display_data",
          "data": {
            "image/png": "[encoded data removed]",
            "text/plain": [
              "<Figure size 432x288 with 1 Axes>"
            ]
          },
          "metadata": {
            "tags": []
          }
        },
        {
          "output_type": "stream",
          "text": [
            "\n",
            "DONE!\n"
          ],
          "name": "stdout"
        }
      ]
    },
    {
      "cell_type": "markdown",
      "metadata": {
        "colab_type": "text",
        "id": "rfQrtufGIEQ8"
      },
      "source": [
        "The objective function is given by $f(x_1,y_1,x_2,y_2,x_3,y_3)=\\sum_{i=1}^n\\sum_{c\\in C_i}(x_i-x_c)^2+(y_i-y_c)^2$ where $n$ is the number of the airports and $C_i$ is the set of cities whose closest airport is airport $i$. The goal of the program is determining the locations of airports that minimize the objective function using gradient based optimizatoin. \n",
        "\n",
        "The gradient of the objective function is $\\nabla f(x_1,y_1,x_2,y_2,x_3,y_3)=\\big(2\\sum_{c\\in C_1}(x_1-x_c),2\\sum_{c\\in C_1}(y_1-y_c),2\\sum_{c\\in C_2}(x_2-x_c),2\\sum_{c\\in C_2}(y_2-y_c),2\\sum_{c\\in C_3}(x_3-x_c),2\\sum_{c\\in C_3}(y_3-y_c)\\big)$\n",
        "\n",
        "By updating $(x_1,y_1,x_2,y_2,x_3,y_3)\\gets (x_1,y_1,x_2,y_2,x_3,y_3)-\\alpha \\nabla f(x_1,y_1,x_2,y_2,x_3,y_3)$ where $0<\\alpha\\ll1$ is a constant, **find the optimal locations of the airports $(x_1,y_1,x_2,y_2,x_3,y_3)$.**\n",
        "\n",
        "Every time the locations of the airports are updated, **plot the objective value as shown in the figure**.\n",
        "\n",
        "<Note: The objective values may be different than the example.>\n",
        "<img src=\"airports_loss.png\" style=\"width:400px\">"
      ]
    }
  ]
}