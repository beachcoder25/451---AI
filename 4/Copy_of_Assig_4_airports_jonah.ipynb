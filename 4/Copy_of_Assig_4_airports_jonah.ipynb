{
  "nbformat": 4,
  "nbformat_minor": 0,
  "metadata": {
    "kernelspec": {
      "display_name": "Python 3",
      "language": "python",
      "name": "python3"
    },
    "language_info": {
      "codemirror_mode": {
        "name": "ipython",
        "version": 3
      },
      "file_extension": ".py",
      "mimetype": "text/x-python",
      "name": "python",
      "nbconvert_exporter": "python",
      "pygments_lexer": "ipython3",
      "version": "3.7.3"
    },
    "colab": {
      "name": "Copy of Assig_4_airports_jonah.ipynb",
      "provenance": [],
      "collapsed_sections": []
    }
  },
  "cells": [
    {
      "cell_type": "code",
      "metadata": {
        "id": "9PtOlfnf0gxw",
        "colab_type": "code",
        "colab": {}
      },
      "source": [
        "import random\n",
        "import math\n",
        "\n",
        "num_city = 100\n",
        "num_air = 3\n",
        "cities = set()\n",
        "airports = []\n",
        "air1Cities=[]\n",
        "air2Cities=[]\n",
        "air3Cities=[]\n",
        "for i in range(num_city):\n",
        "    x = random.random()\n",
        "    y = random.random()\n",
        "    cities.add((x,y))\n",
        "    \n",
        "for i in range(num_air):\n",
        "    x = random.random()\n",
        "    y = random.random()\n",
        "    airports.append((x,y))"
      ],
      "execution_count": 0,
      "outputs": []
    },
    {
      "cell_type": "code",
      "metadata": {
        "id": "mGUsaWNw0gx1",
        "colab_type": "code",
        "outputId": "48a2b59e-4c73-4a95-994e-0da0edf16ef5",
        "colab": {
          "base_uri": "https://localhost:8080/",
          "height": 282
        }
      },
      "source": [
        "import matplotlib.pyplot as plt\n",
        "\n",
        "zip_cities = zip(*cities)\n",
        "plt.scatter(*zip_cities, marker='+',color='b', label='Cities')\n",
        "zip_airs = zip(*airports)\n",
        "plt.scatter(*zip_airs, marker='*', color='r', s=100, label='Airports')\n",
        "plt.legend()\n",
        "plt\n",
        "print(airports)"
      ],
      "execution_count": 3,
      "outputs": [
        {
          "output_type": "stream",
          "text": [
            "[(0.9901986908917138, 0.8634162608333543), (0.3037646970407477, 0.7951213835964366), (0.10744717877789223, 0.2814238216969299)]\n"
          ],
          "name": "stdout"
        },
        {
          "output_type": "display_data",
          "data": {
            "image/png": "[encoded data removed]",
            "text/plain": [
              "<Figure size 432x288 with 1 Axes>"
            ]
          },
          "metadata": {
            "tags": []
          }
        }
      ]
    },
    {
      "cell_type": "code",
      "metadata": {
        "id": "CSEJg265jn1a",
        "colab_type": "code",
        "outputId": "66c4c9c7-e43e-40a8-c84e-648ec090b6b8",
        "colab": {
          "base_uri": "https://localhost:8080/",
          "height": 1000
        }
      },
      "source": [
        "\n",
        "import math\n",
        "import numpy as np\n",
        "#this list will hold values in form of ( int, (float,float))\n",
        "#fist value represents the airport that is closest to a given city\n",
        "#second value is tuple of city coordinates in form of  (x, y)\n",
        "airListPlusCities = []\n",
        "\n",
        "#this function calculates the linear distance of two coordinates\n",
        "def distanceOfTwoPoints(xa, ya, xc, yc):\n",
        "  return math.sqrt(((xa - xc)**2) + ((ya - yc)**2))\n",
        "  ''' iterate through each city in cities tuple and \n",
        "  calculate the distance from 3 airpors to each city, \n",
        "  find the closest airport and add (airport#, (xcity, ycity)) into list'''\n",
        "\n",
        "def setAirPortForCities ():\n",
        "  (x1, y1) = airports[0]\n",
        "  (x2, y2) = airports[1]\n",
        "  (x3, y3) = airports[2]\n",
        "  for city in cities:\n",
        "    (xc,yc) = city\n",
        "    distanceFromA1 = distanceOfTwoPoints(x1, y1, xc, yc)\n",
        "    distanceFromA2 = distanceOfTwoPoints(x2, y2, xc, yc)\n",
        "    distanceFromA3 = distanceOfTwoPoints(x3, y3, xc, yc)\n",
        "    \n",
        "    minD = np.argmin([distanceFromA1, distanceFromA2, distanceFromA3])\n",
        "    kac = (minD , city)\n",
        "    airListPlusCities.append(kac)\n",
        "   \n",
        "\n",
        "\n",
        "setAirPortForCities()\n",
        "list.sort(airListPlusCities)\n",
        "for i in range (len(airListPlusCities)):\n",
        "  # for i in range (len(airListPlusCities)):\n",
        "  print(airListPlusCities[i])\n",
        "\n",
        "  \n",
        "# print(airports)\n",
        "# type(airports)\n",
        "# type(airListPlusCities[0])\n",
        "# print(airListPlusCities[0][1][0])"
      ],
      "execution_count": 4,
      "outputs": [
        {
          "output_type": "stream",
          "text": [
            "(0, (0.6631979256867849, 0.7414862872358465))\n",
            "(0, (0.6669313276342167, 0.6398685627515543))\n",
            "(0, (0.6675597532825429, 0.7187503132341739))\n",
            "(0, (0.6911400470551776, 0.643210497612052))\n",
            "(0, (0.6986152504445635, 0.4109137004254184))\n",
            "(0, (0.7192798233762812, 0.40920113614981046))\n",
            "(0, (0.7201881346251993, 0.7270338134477179))\n",
            "(0, (0.7239909663848693, 0.7118068484281952))\n",
            "(0, (0.7430374074596253, 0.45968015681319785))\n",
            "(0, (0.7523135838068429, 0.5116337529079379))\n",
            "(0, (0.7874550374465129, 0.6413861202444752))\n",
            "(0, (0.790660389786942, 0.7922620763617529))\n",
            "(0, (0.8045997254630816, 0.20862108347290997))\n",
            "(0, (0.8205489707531648, 0.5924505938476778))\n",
            "(0, (0.8396940945141229, 0.20381170422540384))\n",
            "(0, (0.880871184237933, 0.7840134364699582))\n",
            "(0, (0.8894768102113955, 0.8964240261905794))\n",
            "(0, (0.902050818772948, 0.28111022236731187))\n",
            "(0, (0.9057265598976727, 0.18530070142561317))\n",
            "(0, (0.9095396738471145, 0.7652087624310097))\n",
            "(0, (0.9131585567021242, 0.5137960146402482))\n",
            "(0, (0.9179584466451244, 0.44800068800673487))\n",
            "(0, (0.9184645936438374, 0.04996226590417585))\n",
            "(0, (0.9190830151092438, 0.5066277440811394))\n",
            "(0, (0.9382917214730121, 0.8959494850507784))\n",
            "(0, (0.9558525272407855, 0.5860700758548624))\n",
            "(0, (0.9577907337687057, 0.18811611707800524))\n",
            "(0, (0.9656894448994673, 0.0030727518183631952))\n",
            "(0, (0.9718784823192091, 0.040881062048584216))\n",
            "(0, (0.9745618488668388, 0.7033981685440399))\n",
            "(0, (0.9833322083747886, 0.6316365290755116))\n",
            "(0, (0.9871127648930488, 0.9608968654729046))\n",
            "(0, (0.9893137239234859, 0.572872742427049))\n",
            "(0, (0.990934341615299, 0.14116144442569734))\n",
            "(0, (0.9918273502865608, 0.8775431171014103))\n",
            "(1, (0.02790566878067391, 0.8299014359139779))\n",
            "(1, (0.03271083931724872, 0.9898058527745126))\n",
            "(1, (0.04607610511551308, 0.9792782364123269))\n",
            "(1, (0.06151712876240578, 0.6957974073112183))\n",
            "(1, (0.08230920237721573, 0.715100761549808))\n",
            "(1, (0.09095168238608864, 0.7629441249857977))\n",
            "(1, (0.19871418349504144, 0.5814497149947516))\n",
            "(1, (0.23737548385945373, 0.5633350429253365))\n",
            "(1, (0.24433619124374784, 0.6302496394098128))\n",
            "(1, (0.26351343679860384, 0.6156576557417686))\n",
            "(1, (0.28198289391518805, 0.5397647826569625))\n",
            "(1, (0.3115496855141531, 0.5899483541251219))\n",
            "(1, (0.3128290255520614, 0.8652521087428189))\n",
            "(1, (0.31434451219577797, 0.5807427898302125))\n",
            "(1, (0.3751278389641908, 0.7014722584194527))\n",
            "(1, (0.3902111463956055, 0.737954669685951))\n",
            "(1, (0.421714506668877, 0.8298473751077396))\n",
            "(1, (0.4296539500670782, 0.7348624979775817))\n",
            "(1, (0.5017745999278218, 0.5510508623774749))\n",
            "(1, (0.5313915366630924, 0.6113812253568819))\n",
            "(1, (0.5753892554926707, 0.4006384610598449))\n",
            "(1, (0.5865633395264385, 0.9620987374339861))\n",
            "(1, (0.5895502290619868, 0.4243636653055681))\n",
            "(1, (0.6249178637340752, 0.8707297033485074))\n",
            "(1, (0.637360951049027, 0.7736061707951498))\n",
            "(1, (0.6406497962846429, 0.38011782591423415))\n",
            "(1, (0.6441263123700763, 0.8322523506315657))\n",
            "(1, (0.6837426417622593, 0.37683044784957487))\n",
            "(2, (0.020047219594887866, 0.07656119958137753))\n",
            "(2, (0.05908024312222415, 0.12819873570978868))\n",
            "(2, (0.07676408281479585, 0.014352354404423395))\n",
            "(2, (0.08389309978066051, 0.4160528784673574))\n",
            "(2, (0.08969601617148659, 0.34525405150011745))\n",
            "(2, (0.09796729201460641, 0.4003959143052246))\n",
            "(2, (0.11192064200762042, 0.36584519956896977))\n",
            "(2, (0.1231750444683406, 0.4271593795990738))\n",
            "(2, (0.12662077947837824, 0.5626768096022855))\n",
            "(2, (0.16478746099016817, 0.03908044242650177))\n",
            "(2, (0.18138885395186977, 0.34607530943263765))\n",
            "(2, (0.18653935092055518, 0.4976774567224419))\n",
            "(2, (0.18782903275547347, 0.4425627223270282))\n",
            "(2, (0.20093062138134243, 0.26109348125617193))\n",
            "(2, (0.20549783925200893, 0.11817953813884352))\n",
            "(2, (0.21299970754498743, 0.023981974775353576))\n",
            "(2, (0.2208262019703905, 0.004796255550923445))\n",
            "(2, (0.2281260762869184, 0.020371814465205196))\n",
            "(2, (0.2429971449529228, 0.15037245989209325))\n",
            "(2, (0.2642907945722086, 0.1670180689897226))\n",
            "(2, (0.3111968032271416, 0.3332062108678008))\n",
            "(2, (0.35535264352249996, 0.3327955118824468))\n",
            "(2, (0.360265940587443, 0.3475324737806589))\n",
            "(2, (0.37636794339910584, 0.44265522801641155))\n",
            "(2, (0.38928565264001336, 0.30043025267192247))\n",
            "(2, (0.4419492701995069, 0.1784850612100657))\n",
            "(2, (0.4757684734759273, 0.005111471133528833))\n",
            "(2, (0.5429090038280122, 0.2816350732570062))\n",
            "(2, (0.5591949935007547, 0.0852352687395529))\n",
            "(2, (0.5697667589713291, 0.10961774925466228))\n",
            "(2, (0.6132845669087812, 0.3229533240632646))\n",
            "(2, (0.6529499930109185, 0.022863264430563413))\n",
            "(2, (0.6606322724689545, 0.2676632327454255))\n",
            "(2, (0.6788170931705213, 0.015367755930498217))\n",
            "(2, (0.6924894160740087, 0.3079250520384902))\n",
            "(2, (0.6943505328469937, 0.28470261226039495))\n",
            "(2, (0.7104689456695958, 0.09813705742429979))\n"
          ],
          "name": "stdout"
        }
      ]
    },
    {
      "cell_type": "code",
      "metadata": {
        "id": "zIKAZmExQKVK",
        "colab_type": "code",
        "colab": {}
      },
      "source": [
        "x_sum_list = []\n",
        "y_sum_list = []\n",
        "x_sum = 0\n",
        "y_sum = 0\n",
        "\n",
        "for i in range (len(airListPlusCities)):\n",
        "\n",
        "  #print(airListPlusCities[i])\n",
        "  #print(airListPlusCities[i][0])\n",
        "  \n",
        "  \n",
        "  \n",
        "  if(airListPlusCities[i][0]) == 0:\n",
        "    x_sum += airListPlusCities[i][1][0]\n",
        "    y_sum += airListPlusCities[i][1][1]\n",
        "    print(x_sum, \" \",y_sum)\n",
        "\n",
        "print(\"\\n\")\n",
        "print(x_sum)\n",
        "print(y_sum)\n",
        "\n"
      ],
      "execution_count": 0,
      "outputs": []
    },
    {
      "cell_type": "code",
      "metadata": {
        "id": "qRWlg5sTIJH3",
        "colab_type": "code",
        "outputId": "6f311be6-73a7-4ff7-ed1d-1d150629b4ec",
        "colab": {
          "base_uri": "https://localhost:8080/",
          "height": 238
        }
      },
      "source": [
        "# Unsure of how to determine the alpha value\n",
        "alpha = 0.001\n",
        "x1, y1 = airports[0]\n",
        "x2, y2 = airports[1]\n",
        "x3, y3 = airports[2]\n",
        "\n",
        "def g_func(airports):\n",
        "\n",
        "  print(airports)\n",
        "\n",
        "  x1_sum,y1_sum,x2_sum,y2_sum,x3_sum,y3_sum = 0,0,0,0,0,0\n",
        "\n",
        "  for i in range(len(airListPlusCities)):\n",
        "    xc,yc = airListPlusCities[i][1][0], airListPlusCities[i][1][1]\n",
        "    \n",
        "    if(airListPlusCities[i][0]) == 0:\n",
        "      x1_sum += ((x1 - xc))\n",
        "      y1_sum += ((y1 - yc))\n",
        "      #print(x1_sum)\n",
        "\n",
        "    if(airListPlusCities[i][0]) == 1:\n",
        "       x2_sum += ((x2 - xc))\n",
        "       y2_sum += (abs((y2 - yc)))\n",
        "\n",
        "    if(airListPlusCities[i][0]) == 2:\n",
        "      x3_sum += ((x3 - xc))\n",
        "      y3_sum += ((y3 - yc))\n",
        "\n",
        "\n",
        "    ret_airports = ((2 * x1_sum,2 * y1_sum),(2 * x2_sum,2 * y2_sum), (2 * x3_sum,2 * y3_sum))\n",
        "      \n",
        "  return ret_airports\n",
        "\n",
        "ret_list = g_func(airports)\n",
        "\n",
        "\n",
        "print(\"\\n\\nReturn list:\")\n",
        "print(ret_list)\n",
        "\n",
        "print(\"\\n\\nAirports before:\")\n",
        "print(airports)\n",
        "\n",
        "airports.clear()\n",
        "\n",
        "for i in range(3):\n",
        "  \n",
        "  #print(str(x1), \" - \", str(alpha * ret_list[i][0]))\n",
        "  x1 = x1 - (alpha * ret_list[i][0])\n",
        "  y1 = y1 - (alpha * ret_list[i][1])\n",
        "  #print(x1)\n",
        "  airports.append((x1,y1))\n",
        "  x1,y1 = 0, 0\n",
        "  #print(alpha * ret_list[i][1])\n",
        " \n",
        "print(\"\\n\\nNew list:\")\n",
        "print(airports)\n",
        "\n",
        "\n",
        "\n",
        "\n"
      ],
      "execution_count": 20,
      "outputs": [
        {
          "output_type": "stream",
          "text": [
            "[(0.9720380589158145, 0.8179631772235965), (0.02009369762366634, -0.0387830039703439), (0.02312801305053951, 0.017364606788786922)]\n",
            "\n",
            "\n",
            "Return list:\n",
            "((8.138409635209962, 20.369104670507557), (-19.151332947636718, 40.424716539615126), (-22.62938264932679, -15.803064390474836))\n",
            "\n",
            "\n",
            "Airports before:\n",
            "[(0.9720380589158145, 0.8179631772235965), (0.02009369762366634, -0.0387830039703439), (0.02312801305053951, 0.017364606788786922)]\n",
            "\n",
            "\n",
            "New list:\n",
            "[(0.9638996492806046, 0.7975940725530889), (0.01915133294763672, -0.04042471653961513), (0.02262938264932679, 0.015803064390474835)]\n"
          ],
          "name": "stdout"
        }
      ]
    },
    {
      "cell_type": "markdown",
      "metadata": {
        "colab_type": "text",
        "id": "rfQrtufGIEQ8"
      },
      "source": [
        "The objective function is given by $f(x_1,y_1,x_2,y_2,x_3,y_3)=\\sum_{i=1}^n\\sum_{c\\in C_i}(x_i-x_c)^2+(y_i-y_c)^2$ where $n$ is the number of the airports and $C_i$ is the set of cities whose closest airport is airport $i$. The goal of the program is determining the locations of airports that minimize the objective function using gradient based optimizatoin. \n",
        "\n",
        "The gradient of the objective function is $\\nabla f(x_1,y_1,x_2,y_2,x_3,y_3)=\\big(2\\sum_{c\\in C_1}(x_1-x_c),2\\sum_{c\\in C_1}(y_1-y_c),2\\sum_{c\\in C_2}(x_2-x_c),2\\sum_{c\\in C_2}(y_2-y_c),2\\sum_{c\\in C_3}(x_3-x_c),2\\sum_{c\\in C_3}(y_3-y_c)\\big)$\n",
        "\n",
        "By updating $(x_1,y_1,x_2,y_2,x_3,y_3)\\gets (x_1,y_1,x_2,y_2,x_3,y_3)-\\alpha \\nabla f(x_1,y_1,x_2,y_2,x_3,y_3)$ where $0<\\alpha\\ll1$ is a constant, **find the optimal locations of the airports $(x_1,y_1,x_2,y_2,x_3,y_3)$.**\n",
        "\n",
        "Every time the locations of the airports are updated, **plot the objective value as shown in the figure**.\n",
        "\n",
        "<Note: The objective values may be different than the example.>\n",
        "<img src=\"airports_loss.png\" style=\"width:400px\">"
      ]
    }
  ]
}