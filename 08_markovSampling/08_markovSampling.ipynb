{
 "cells": [
  {
   "cell_type": "code",
   "execution_count": null,
   "metadata": {},
   "outputs": [],
   "source": [
    "import numpy as np\n",
    "\n",
    "\n",
    "# build state transition matrix\n",
    "s0 = [0.94, 0.94, 1.0, 1.0]\n",
    "s1 = [0.50, 0.655, 0.655, 1.0]\n",
    "s2 = [0.44, 0.44, 1.0, 1.0]\n",
    "s3 = [0.0, 0.155, 0.655, 1.0]\n",
    "stm = [s0, s1, s2, s3]\n",
    "\n",
    "# initialize state and sample count \n",
    "state = np.random.randint(0, 4)\n",
    "sample = [0,0,0,0]\n",
    "sample[state] += 1 \n",
    "\n",
    "# sample\n",
    "for i in range(1000000) :\n",
    "    rand = np.random.rand()\n",
    "    j = 0\n",
    "    hit = False\n",
    "    \n",
    "    while j < len(stm[state]) and False == hit :\n",
    "        if rand < stm[state][j] :\n",
    "            state = j\n",
    "            hit = True\n",
    "        j += 1\n",
    "        \n",
    "    sample[state] += 1\n",
    "\n",
    "count = sum(sample)\n",
    "    \n",
    "p0 = (sample[0] + sample[1]) / count\n",
    "p1 = (sample[2] + sample[3]) / count\n",
    "\n",
    "tpm1 = [0.94, 0.0, 0.06, 0]\n",
    "tpm2 = [0.5, 0.155, 0.0, 0.345]\n",
    "tpm3 = [0.44, 0.0, 0.56, 0.0]\n",
    "tpm4 = [0.0, 0.155, 0.50, 0.345]\n",
    "\n",
    "print(\"Part A. The sampling probabilities\")\n",
    "print(\"P(C|-s,r) = <%3.2f, %3.2f>\" % (0.88, 0.12))\n",
    "print(\"P(C|-s,-r) = <%3.2f, %3.2f>\" % (0.31, 0.69))\n",
    "print(\"P(R|c,-s,w) = <%3.2f, %3.2f>\" % (1, 0))\n",
    "print(\"P(R|-c,-s,w) = <%3.2f, %3.2f>\" % (1, 0))\n",
    "\n",
    "print(\"\\nPart B. The transition probability matrix\")\n",
    "print(\"\\tS1\\tS2\\tS3\\tS4\")\n",
    "print(\"S1\\t%5.4f\\t%5.4f\\t%5.4f\\t%5.4f\" % (tpm1[0], tpm1[1], tpm1[2], tpm1[3]))\n",
    "print(\"S2\\t%5.4f\\t%5.4f\\t%5.4f\\t%5.4f\" % (tpm2[0], tpm2[1], tpm2[2], tpm2[3]))\n",
    "print(\"S3\\t%5.4f\\t%5.4f\\t%5.4f\\t%5.4f\" % (tpm3[0], tpm3[1], tpm3[2], tpm3[3]))\n",
    "print(\"S4\\t%5.4f\\t%5.4f\\t%5.4f\\t%5.4f\" % (tpm4[0], tpm4[1], tpm4[2], tpm4[3]))\n",
    "\n",
    "print(\"\\nPart C. The probability for the query\")\n",
    "print(\"P(C|-s,w) = <%5.4f, %5.4f>\" % (p0, p1))"
   ]
  },
  {
   "cell_type": "code",
   "execution_count": null,
   "metadata": {},
   "outputs": [],
   "source": []
  }
 ],
 "metadata": {
  "kernelspec": {
   "display_name": "Python 3",
   "language": "python",
   "name": "python3"
  },
  "language_info": {
   "codemirror_mode": {
    "name": "ipython",
    "version": 3
   },
   "file_extension": ".py",
   "mimetype": "text/x-python",
   "name": "python",
   "nbconvert_exporter": "python",
   "pygments_lexer": "ipython3",
   "version": "3.7.4"
  }
 },
 "nbformat": 4,
 "nbformat_minor": 2
}
